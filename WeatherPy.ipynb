{
 "cells": [
  {
   "cell_type": "markdown",
   "metadata": {},
   "source": [
    "# WeatherPy\n",
    "----\n",
    "\n",
    "#### Note\n",
    "* Instructions have been included for each segment. You do not have to follow them exactly, but they are included to help you think through the steps."
   ]
  },
  {
   "cell_type": "code",
   "execution_count": 3,
   "metadata": {
    "scrolled": true
   },
   "outputs": [],
   "source": [
    "# Dependencies and Setup\n",
    "import matplotlib.pyplot as plt\n",
    "import pandas as pd\n",
    "import numpy as np\n",
    "import requests\n",
    "import time\n",
    "\n",
    "api_key = \"a4dc8840d0d845599237bfb6fed86b11\"\n",
    "\n",
    "\n",
    "#Import citipy to determine city based on latitude and longitude\n",
    "from citipy import citipy\n",
    "\n",
    "#Output File (CSV)\n",
    "#output_data_file = \"output_data/cities.csv\"\n",
    "\n",
    "#Range of latitudes and longitudes\n",
    "lat_range = (-90, 90)\n",
    "long_range = (-180, 180)"
   ]
  },
  {
   "cell_type": "markdown",
   "metadata": {},
   "source": [
    "## Generate Cities List"
   ]
  },
  {
   "cell_type": "code",
   "execution_count": 4,
   "metadata": {},
   "outputs": [
    {
     "name": "stdout",
     "output_type": "stream",
     "text": [
      "598\n"
     ]
    }
   ],
   "source": [
    "# Create lists for holding lat and longitudes, cities and countries\n",
    "lat_longs = []\n",
    "cities = []\n",
    "countries = []\n",
    "\n",
    "#Create the random lat and longitude combinations\n",
    "lats = np.random.uniform(low=-90.000, high=90.000, size=1500)\n",
    "longs = np.random.uniform(low=-180.000, high=180.000, size=1500)\n",
    "lat_longs = zip(lats, longs)\n",
    "\n",
    "#Identify nearest city for each lat, lng combination using citipy\n",
    "for lat_long in lat_longs:\n",
    "    city = citipy.nearest_city(lat_long[0], lat_long[1]).city_name\n",
    "    country = citipy.nearest_city(lat_long[0], lat_long[1]).country_code\n",
    "    # If the city is unique, then add it to cities list\n",
    "    if city not in cities:\n",
    "        cities.append(city)\n",
    "        countries.append(country.upper())\n",
    "\n",
    "#Show the city count\n",
    "print(len(cities))"
   ]
  },
  {
   "cell_type": "code",
   "execution_count": 5,
   "metadata": {},
   "outputs": [
    {
     "data": {
      "text/html": [
       "<div>\n",
       "<style scoped>\n",
       "    .dataframe tbody tr th:only-of-type {\n",
       "        vertical-align: middle;\n",
       "    }\n",
       "\n",
       "    .dataframe tbody tr th {\n",
       "        vertical-align: top;\n",
       "    }\n",
       "\n",
       "    .dataframe thead th {\n",
       "        text-align: right;\n",
       "    }\n",
       "</style>\n",
       "<table border=\"1\" class=\"dataframe\">\n",
       "  <thead>\n",
       "    <tr style=\"text-align: right;\">\n",
       "      <th></th>\n",
       "      <th>City</th>\n",
       "      <th>Lat</th>\n",
       "      <th>Long</th>\n",
       "      <th>Max Temp</th>\n",
       "      <th>Humidity</th>\n",
       "      <th>Cloudiness</th>\n",
       "      <th>Country</th>\n",
       "      <th>Date</th>\n",
       "    </tr>\n",
       "  </thead>\n",
       "  <tbody>\n",
       "    <tr>\n",
       "      <th>0</th>\n",
       "      <td>joshimath</td>\n",
       "      <td></td>\n",
       "      <td></td>\n",
       "      <td></td>\n",
       "      <td></td>\n",
       "      <td></td>\n",
       "      <td>IN</td>\n",
       "      <td></td>\n",
       "    </tr>\n",
       "    <tr>\n",
       "      <th>1</th>\n",
       "      <td>pasni</td>\n",
       "      <td></td>\n",
       "      <td></td>\n",
       "      <td></td>\n",
       "      <td></td>\n",
       "      <td></td>\n",
       "      <td>PK</td>\n",
       "      <td></td>\n",
       "    </tr>\n",
       "    <tr>\n",
       "      <th>2</th>\n",
       "      <td>cidreira</td>\n",
       "      <td></td>\n",
       "      <td></td>\n",
       "      <td></td>\n",
       "      <td></td>\n",
       "      <td></td>\n",
       "      <td>BR</td>\n",
       "      <td></td>\n",
       "    </tr>\n",
       "    <tr>\n",
       "      <th>3</th>\n",
       "      <td>tuktoyaktuk</td>\n",
       "      <td></td>\n",
       "      <td></td>\n",
       "      <td></td>\n",
       "      <td></td>\n",
       "      <td></td>\n",
       "      <td>CA</td>\n",
       "      <td></td>\n",
       "    </tr>\n",
       "    <tr>\n",
       "      <th>4</th>\n",
       "      <td>saint-philippe</td>\n",
       "      <td></td>\n",
       "      <td></td>\n",
       "      <td></td>\n",
       "      <td></td>\n",
       "      <td></td>\n",
       "      <td>RE</td>\n",
       "      <td></td>\n",
       "    </tr>\n",
       "  </tbody>\n",
       "</table>\n",
       "</div>"
      ],
      "text/plain": [
       "             City Lat Long Max Temp Humidity Cloudiness Country Date\n",
       "0       joshimath                                            IN     \n",
       "1           pasni                                            PK     \n",
       "2        cidreira                                            BR     \n",
       "3     tuktoyaktuk                                            CA     \n",
       "4  saint-philippe                                            RE     "
      ]
     },
     "execution_count": 5,
     "metadata": {},
     "output_type": "execute_result"
    }
   ],
   "source": [
    "#Create a dataframe to store the data\n",
    "city_data = pd.DataFrame({'City': cities, 'Lat': \"\", 'Long': \"\", 'Max Temp': \"\", 'Humidity': \"\",\n",
    "                          'Cloudiness': \"\", 'Humidity': \"\", 'Country': countries, 'Date': \"\"})\n",
    "\n",
    "#Preview the dataframe\n",
    "city_data.head()"
   ]
  },
  {
   "cell_type": "markdown",
   "metadata": {},
   "source": [
    "### Perform API Calls\n",
    "* Perform a weather check on each city using a series of successive API calls.\n",
    "* Include a print log of each city as it'sbeing processed (with the city number and city name).\n"
   ]
  },
  {
   "cell_type": "code",
   "execution_count": 6,
   "metadata": {
    "scrolled": true
   },
   "outputs": [
    {
     "name": "stdout",
     "output_type": "stream",
     "text": [
      "\n",
      "Beginning Data Retrieval\n",
      "-----------------------------\n",
      "Processing Record 1 of Set 1 | Joshīmath\n",
      "Processing Record 2 of Set 1 | Pasni\n",
      "Processing Record 3 of Set 1 | Cidreira\n",
      "Processing Record 4 of Set 1 | Tuktoyaktuk\n",
      "Processing Record 5 of Set 1 | Saint-Philippe\n",
      "Processing Record 6 of Set 1 | Katsuura\n",
      "Processing Record 7 of Set 1 | Tiksi\n",
      "Processing Record 8 of Set 1 | Kaitangata\n",
      "Processing Record 9 of Set 1 | Ushuaia\n",
      "City not found....Skipping............\n",
      "Processing Record 10 of Set 1 | Necochea\n",
      "Processing Record 11 of Set 1 | Sumenep\n",
      "Processing Record 12 of Set 1 | Punta Arenas\n",
      "Processing Record 13 of Set 1 | Tuatapere\n",
      "Processing Record 14 of Set 1 | Castro\n",
      "Processing Record 15 of Set 1 | Vaini\n",
      "Processing Record 16 of Set 1 | Xining\n",
      "Processing Record 17 of Set 1 | Vanimo\n",
      "Processing Record 18 of Set 1 | Honningsvåg\n",
      "Processing Record 19 of Set 1 | Pevek\n",
      "City not found....Skipping............\n",
      "Processing Record 20 of Set 1 | Sisimiut\n",
      "Processing Record 21 of Set 1 | Lillehammer\n",
      "Processing Record 22 of Set 1 | Pisco\n",
      "Processing Record 23 of Set 1 | Kumul\n",
      "City not found....Skipping............\n",
      "Processing Record 24 of Set 1 | Souillac\n",
      "Processing Record 25 of Set 1 | Yar-Sale\n",
      "Processing Record 26 of Set 1 | Medeiros Neto\n",
      "Processing Record 27 of Set 1 | Barcelos\n",
      "Processing Record 28 of Set 1 | Hobart\n",
      "Processing Record 29 of Set 1 | Beyneu\n",
      "Processing Record 30 of Set 1 | Boca do Acre\n",
      "Processing Record 31 of Set 1 | Dikson\n",
      "Processing Record 32 of Set 1 | Tarauacá\n",
      "Processing Record 33 of Set 1 | Narsaq\n",
      "Processing Record 34 of Set 1 | Puerto Ayora\n",
      "Processing Record 35 of Set 1 | Nikolskoye\n",
      "City not found....Skipping............\n",
      "Processing Record 36 of Set 1 | Jamestown\n",
      "Processing Record 37 of Set 1 | Arraial do Cabo\n",
      "Processing Record 38 of Set 1 | Victoria\n",
      "Processing Record 39 of Set 1 | Hithadhoo\n",
      "City not found....Skipping............\n",
      "City not found....Skipping............\n",
      "Processing Record 40 of Set 1 | Aasiaat\n",
      "Processing Record 41 of Set 1 | Wahiawā\n",
      "City not found....Skipping............\n",
      "Processing Record 42 of Set 1 | Albany\n",
      "Processing Record 43 of Set 1 | Cherskiy\n",
      "Processing Record 44 of Set 1 | Faanui\n",
      "Processing Record 45 of Set 1 | Portland\n",
      "Processing Record 46 of Set 1 | Itaituba\n",
      "Processing Record 47 of Set 1 | Rikitea\n",
      "Processing Record 48 of Set 1 | Soyo\n",
      "Processing Record 49 of Set 1 | Carnarvon\n",
      "Processing Record 50 of Set 1 | Saint George\n",
      "City not found....Skipping............\n",
      "Processing Record 1 of Set 2 | Lockport\n",
      "Processing Record 2 of Set 2 | Alofi\n",
      "Processing Record 3 of Set 2 | Ambon City\n",
      "City not found....Skipping............\n",
      "Processing Record 4 of Set 2 | Ribeira Grande\n",
      "Processing Record 5 of Set 2 | Tawang Town\n",
      "Processing Record 6 of Set 2 | Bac Lieu\n",
      "Processing Record 7 of Set 2 | Kapaa\n",
      "Processing Record 8 of Set 2 | Srednekolymsk\n",
      "Processing Record 9 of Set 2 | East London\n",
      "Processing Record 10 of Set 2 | Puri\n",
      "Processing Record 11 of Set 2 | Talnakh\n",
      "Processing Record 12 of Set 2 | Peto\n",
      "Processing Record 13 of Set 2 | Erenhot\n",
      "Processing Record 14 of Set 2 | Longyearbyen\n",
      "Processing Record 15 of Set 2 | Cape Town\n",
      "City not found....Skipping............\n",
      "Processing Record 16 of Set 2 | Örnsköldsvik\n",
      "Processing Record 17 of Set 2 | Tura\n",
      "Processing Record 18 of Set 2 | Najrān\n",
      "City not found....Skipping............\n",
      "Processing Record 19 of Set 2 | Dublin\n",
      "Processing Record 20 of Set 2 | Mount Isa\n",
      "Processing Record 21 of Set 2 | Saskylakh\n",
      "Processing Record 22 of Set 2 | Bandarbeyla\n",
      "Processing Record 23 of Set 2 | Kavieng\n",
      "Processing Record 24 of Set 2 | Foumban\n",
      "Processing Record 25 of Set 2 | Saint Paul Harbor\n",
      "Processing Record 26 of Set 2 | Pachperwa\n",
      "Processing Record 27 of Set 2 | Norman Wells\n",
      "Processing Record 28 of Set 2 | Ciudad Bolivar\n",
      "Processing Record 29 of Set 2 | Hasaki\n",
      "City not found....Skipping............\n",
      "Processing Record 30 of Set 2 | Yellowknife\n",
      "Processing Record 31 of Set 2 | Isangel\n",
      "Processing Record 32 of Set 2 | Geghamasar\n",
      "City not found....Skipping............\n",
      "Processing Record 33 of Set 2 | La Asuncion\n",
      "Processing Record 34 of Set 2 | Skellefteå\n",
      "Processing Record 35 of Set 2 | Manta\n",
      "Processing Record 36 of Set 2 | Sur\n",
      "Processing Record 37 of Set 2 | Busselton\n",
      "Processing Record 38 of Set 2 | Baruun-Urt\n",
      "Processing Record 39 of Set 2 | Cabo San Lucas\n",
      "Processing Record 40 of Set 2 | Noumea\n",
      "Processing Record 41 of Set 2 | De Aar\n",
      "Processing Record 42 of Set 2 | Santa Cruz de La Palma\n",
      "Processing Record 43 of Set 2 | Khatanga\n",
      "Processing Record 44 of Set 2 | Ambilobe\n",
      "Processing Record 45 of Set 2 | Teahupoo\n",
      "Processing Record 46 of Set 2 | Mareeba\n",
      "Processing Record 47 of Set 2 | Ratnagiri\n",
      "Processing Record 48 of Set 2 | Giyani\n",
      "Processing Record 49 of Set 2 | Port Alfred\n",
      "Processing Record 50 of Set 2 | Half Moon Bay\n",
      "Processing Record 1 of Set 3 | Bethel\n",
      "Processing Record 2 of Set 3 | Chernyshevskiy\n",
      "Processing Record 3 of Set 3 | Saint-Augustin\n",
      "Processing Record 4 of Set 3 | Sulangan\n",
      "Processing Record 5 of Set 3 | Bocaiúva\n",
      "Processing Record 6 of Set 3 | Lakatoro\n",
      "Processing Record 7 of Set 3 | San Patricio\n",
      "Processing Record 8 of Set 3 | College\n",
      "Processing Record 9 of Set 3 | Neuquén\n",
      "Processing Record 10 of Set 3 | Iqaluit\n",
      "Processing Record 11 of Set 3 | New Norfolk\n",
      "Processing Record 12 of Set 3 | Alibag\n",
      "Processing Record 13 of Set 3 | Areia Branca\n",
      "Processing Record 14 of Set 3 | Cassilândia\n",
      "City not found....Skipping............\n",
      "Processing Record 15 of Set 3 | Husavik\n",
      "Processing Record 16 of Set 3 | Port Hedland\n",
      "Processing Record 17 of Set 3 | Bluff\n",
      "Processing Record 18 of Set 3 | Bayān\n",
      "Processing Record 19 of Set 3 | Gamba\n",
      "Processing Record 20 of Set 3 | Olafsvik\n",
      "Processing Record 21 of Set 3 | Novikovo\n",
      "Processing Record 22 of Set 3 | Ca Mau\n",
      "Processing Record 23 of Set 3 | Barrow\n",
      "City not found....Skipping............\n",
      "Processing Record 24 of Set 3 | Caravelas\n",
      "City not found....Skipping............\n",
      "Processing Record 25 of Set 3 | Aklavik\n",
      "Processing Record 26 of Set 3 | Havre-St-Pierre\n",
      "Processing Record 27 of Set 3 | Pereslavl'-Zalesskiy\n",
      "Processing Record 28 of Set 3 | Qaanaaq\n",
      "Processing Record 29 of Set 3 | Marabu\n",
      "Processing Record 30 of Set 3 | Kilindoni\n",
      "Processing Record 31 of Set 3 | Hofn\n",
      "Processing Record 32 of Set 3 | Merowe\n",
      "City not found....Skipping............\n",
      "Processing Record 33 of Set 3 | Wattegama\n",
      "Processing Record 34 of Set 3 | Ilulissat\n",
      "Processing Record 35 of Set 3 | Port Elizabeth\n",
      "Processing Record 36 of Set 3 | Ahipara\n",
      "Processing Record 37 of Set 3 | Rio Grande\n",
      "Processing Record 38 of Set 3 | Hermanus\n",
      "Processing Record 39 of Set 3 | Sitka\n",
      "City not found....Skipping............\n",
      "City not found....Skipping............\n",
      "Processing Record 40 of Set 3 | Salalah\n",
      "Processing Record 41 of Set 3 | Ginir\n",
      "Processing Record 42 of Set 3 | Taltal\n",
      "Processing Record 43 of Set 3 | Flinders\n",
      "Processing Record 44 of Set 3 | Ancud\n",
      "Processing Record 45 of Set 3 | Keti Bandar\n",
      "Processing Record 46 of Set 3 | San Quintín\n",
      "Processing Record 47 of Set 3 | Atuona\n",
      "Processing Record 48 of Set 3 | Bredasdorp\n",
      "Processing Record 49 of Set 3 | Basco\n",
      "Processing Record 50 of Set 3 | Okha\n",
      "Processing Record 1 of Set 4 | Kargasok\n",
      "Processing Record 2 of Set 4 | Fairbanks\n",
      "Processing Record 3 of Set 4 | San Cristobal\n",
      "City not found....Skipping............\n",
      "Processing Record 4 of Set 4 | Muzhi\n",
      "Processing Record 5 of Set 4 | Balaguer\n",
      "Processing Record 6 of Set 4 | Avarua\n",
      "Processing Record 7 of Set 4 | Vanavara\n",
      "Processing Record 8 of Set 4 | Acaraú\n",
      "Processing Record 9 of Set 4 | Province of Trapani\n",
      "Processing Record 10 of Set 4 | Esperance\n",
      "Processing Record 11 of Set 4 | Chokurdakh\n",
      "Processing Record 12 of Set 4 | Yulara\n",
      "Processing Record 13 of Set 4 | Arlit\n",
      "Processing Record 14 of Set 4 | Dwārka\n",
      "Processing Record 15 of Set 4 | Iquique\n",
      "Processing Record 16 of Set 4 | Havelock\n",
      "Processing Record 17 of Set 4 | Ingham\n",
      "Processing Record 18 of Set 4 | Lianran\n",
      "Processing Record 19 of Set 4 | Piaçabuçu\n",
      "Processing Record 20 of Set 4 | Lalibela\n",
      "Processing Record 21 of Set 4 | Mar del Plata\n",
      "Processing Record 22 of Set 4 | Aldan\n",
      "City not found....Skipping............\n",
      "Processing Record 23 of Set 4 | Pangnirtung\n",
      "Processing Record 24 of Set 4 | Lichuan\n",
      "Processing Record 25 of Set 4 | Kruisfontein\n",
      "Processing Record 26 of Set 4 | Makhachkala\n",
      "Processing Record 27 of Set 4 | Georgetown\n",
      "Processing Record 28 of Set 4 | Challans\n"
     ]
    },
    {
     "name": "stdout",
     "output_type": "stream",
     "text": [
      "Processing Record 29 of Set 4 | Bethanien\n",
      "Processing Record 30 of Set 4 | Port Hardy\n",
      "Processing Record 31 of Set 4 | Tubualá\n",
      "Processing Record 32 of Set 4 | Thompson\n",
      "Processing Record 33 of Set 4 | Kanash\n",
      "Processing Record 34 of Set 4 | Chui\n",
      "Processing Record 35 of Set 4 | Mīāndoāb\n",
      "Processing Record 36 of Set 4 | Moindou\n",
      "City not found....Skipping............\n",
      "Processing Record 37 of Set 4 | Mahébourg\n",
      "Processing Record 38 of Set 4 | Kindu\n",
      "City not found....Skipping............\n",
      "Processing Record 39 of Set 4 | Lebu\n",
      "Processing Record 40 of Set 4 | Lavrentiya\n",
      "Processing Record 41 of Set 4 | Ihtiman\n",
      "Processing Record 42 of Set 4 | Kyshtovka\n",
      "City not found....Skipping............\n",
      "Processing Record 43 of Set 4 | Verkhnyaya Inta\n",
      "Processing Record 44 of Set 4 | Kieta\n",
      "Processing Record 45 of Set 4 | Tessalit\n",
      "Processing Record 46 of Set 4 | Ponta do Sol\n",
      "Processing Record 47 of Set 4 | Nelson Bay\n",
      "Processing Record 48 of Set 4 | Oistins\n",
      "Processing Record 49 of Set 4 | Rawson\n",
      "Processing Record 50 of Set 4 | Oyama\n",
      "Processing Record 1 of Set 5 | San José de Río Tinto\n",
      "Processing Record 2 of Set 5 | Port Hawkesbury\n",
      "Processing Record 3 of Set 5 | Bayangol\n",
      "Processing Record 4 of Set 5 | Atid\n",
      "Processing Record 5 of Set 5 | Les Cayes\n",
      "Processing Record 6 of Set 5 | Lorengau\n",
      "Processing Record 7 of Set 5 | Namatanai\n",
      "Processing Record 8 of Set 5 | Puerto Escondido\n",
      "Processing Record 9 of Set 5 | Severnyy\n",
      "Processing Record 10 of Set 5 | Yueyang\n",
      "Processing Record 11 of Set 5 | Gwalior\n",
      "Processing Record 12 of Set 5 | Arrecife\n",
      "Processing Record 13 of Set 5 | Charters Towers\n",
      "Processing Record 14 of Set 5 | Shakawe\n",
      "Processing Record 15 of Set 5 | Morehead\n",
      "Processing Record 16 of Set 5 | Tual\n",
      "City not found....Skipping............\n",
      "Processing Record 17 of Set 5 | Niono\n",
      "Processing Record 18 of Set 5 | Kaeo\n",
      "City not found....Skipping............\n",
      "Processing Record 19 of Set 5 | Buala\n",
      "Processing Record 20 of Set 5 | Ngunguru\n",
      "Processing Record 21 of Set 5 | Jaisalmer\n",
      "Processing Record 22 of Set 5 | Hilo\n",
      "Processing Record 23 of Set 5 | Bambous Virieux\n",
      "Processing Record 24 of Set 5 | Kailua\n",
      "Processing Record 25 of Set 5 | Hambantota\n",
      "Processing Record 26 of Set 5 | San Vicente\n",
      "Processing Record 27 of Set 5 | Quthing\n",
      "Processing Record 28 of Set 5 | Florence\n",
      "Processing Record 29 of Set 5 | Canmore\n",
      "Processing Record 30 of Set 5 | Vao\n",
      "Processing Record 31 of Set 5 | Leningradskiy\n",
      "Processing Record 32 of Set 5 | Dhidhdhoo\n",
      "Processing Record 33 of Set 5 | Hīt\n",
      "City not found....Skipping............\n",
      "Processing Record 34 of Set 5 | Atar\n",
      "Processing Record 35 of Set 5 | Kouroussa\n",
      "Processing Record 36 of Set 5 | Evansville\n",
      "Processing Record 37 of Set 5 | Bengkulu\n",
      "City not found....Skipping............\n",
      "Processing Record 38 of Set 5 | Chiang Klang\n",
      "Processing Record 39 of Set 5 | São Miguel do Araguaia\n",
      "Processing Record 40 of Set 5 | Changping\n",
      "Processing Record 41 of Set 5 | Sabha\n",
      "Processing Record 42 of Set 5 | Nanga Eboko\n",
      "Processing Record 43 of Set 5 | Suoyarvi\n",
      "Processing Record 44 of Set 5 | Great Yarmouth\n",
      "Processing Record 45 of Set 5 | Boueni\n",
      "Processing Record 46 of Set 5 | Meulaboh\n",
      "Processing Record 47 of Set 5 | Salāya\n",
      "Processing Record 48 of Set 5 | Guerrero Negro\n",
      "Processing Record 49 of Set 5 | Jiuquan\n",
      "Processing Record 50 of Set 5 | Karla\n",
      "Processing Record 1 of Set 6 | Bhadrāchalam\n",
      "Processing Record 2 of Set 6 | Butaritari\n",
      "Processing Record 3 of Set 6 | Sindor\n",
      "Processing Record 4 of Set 6 | Geraldton\n",
      "Processing Record 5 of Set 6 | Wittmund\n",
      "Processing Record 6 of Set 6 | Champasak\n",
      "Processing Record 7 of Set 6 | Port-Gentil\n",
      "Processing Record 8 of Set 6 | Weinan\n",
      "Processing Record 9 of Set 6 | Martinez\n",
      "City not found....Skipping............\n",
      "City not found....Skipping............\n",
      "Processing Record 10 of Set 6 | Salinópolis\n",
      "Processing Record 11 of Set 6 | Muriti\n",
      "Processing Record 12 of Set 6 | Leh\n",
      "Processing Record 13 of Set 6 | Clyde River\n",
      "Processing Record 14 of Set 6 | Porto Novo\n",
      "Processing Record 15 of Set 6 | Potosí\n",
      "Processing Record 16 of Set 6 | Maceió\n",
      "Processing Record 17 of Set 6 | Umm Hājar\n",
      "Processing Record 18 of Set 6 | Merauke\n",
      "Processing Record 19 of Set 6 | Westport\n",
      "Processing Record 20 of Set 6 | Provideniya\n",
      "Processing Record 21 of Set 6 | Samarai\n",
      "Processing Record 22 of Set 6 | Son La\n",
      "Processing Record 23 of Set 6 | Aranda de Duero\n",
      "Processing Record 24 of Set 6 | Eureka\n",
      "Processing Record 25 of Set 6 | Horodyshche\n",
      "City not found....Skipping............\n",
      "Processing Record 26 of Set 6 | Safi\n",
      "Processing Record 27 of Set 6 | Kyra\n",
      "Processing Record 28 of Set 6 | Manama\n",
      "Processing Record 29 of Set 6 | Liuzhou\n",
      "Processing Record 30 of Set 6 | Cabinda\n",
      "Processing Record 31 of Set 6 | Tabas\n",
      "Processing Record 32 of Set 6 | Ballina\n",
      "Processing Record 33 of Set 6 | Murdochville\n",
      "Processing Record 34 of Set 6 | Sola\n",
      "Processing Record 35 of Set 6 | Trairi\n",
      "Processing Record 36 of Set 6 | Cockburn Town\n",
      "Processing Record 37 of Set 6 | Riyadh\n",
      "Processing Record 38 of Set 6 | Nishihara\n",
      "Processing Record 39 of Set 6 | Bukavu\n",
      "Processing Record 40 of Set 6 | Bereket\n",
      "Processing Record 41 of Set 6 | Fortuna Foothills\n",
      "Processing Record 42 of Set 6 | Broscăuţi\n",
      "Processing Record 43 of Set 6 | Balkanabat\n",
      "Processing Record 44 of Set 6 | Ape\n",
      "City not found....Skipping............\n",
      "Processing Record 45 of Set 6 | Benin City\n",
      "Processing Record 46 of Set 6 | Comodoro Rivadavia\n",
      "Processing Record 47 of Set 6 | Itarema\n",
      "Processing Record 48 of Set 6 | Amahai\n",
      "Processing Record 49 of Set 6 | Rocha\n",
      "Processing Record 50 of Set 6 | Ulaangom\n",
      "Processing Record 1 of Set 7 | Vyazemskiy\n",
      "City not found....Skipping............\n",
      "Processing Record 2 of Set 7 | Camacha\n",
      "Processing Record 3 of Set 7 | Oranjemund\n",
      "Processing Record 4 of Set 7 | Lüderitz\n",
      "Processing Record 5 of Set 7 | Lompoc\n",
      "Processing Record 6 of Set 7 | Coahuayana Viejo\n",
      "Processing Record 7 of Set 7 | Ostër\n",
      "Processing Record 8 of Set 7 | Pudozh\n",
      "Processing Record 9 of Set 7 | Verkhoyansk\n",
      "Processing Record 10 of Set 7 | Ostrovnoy\n",
      "City not found....Skipping............\n",
      "Processing Record 11 of Set 7 | Satipo\n",
      "City not found....Skipping............\n",
      "Processing Record 12 of Set 7 | Schöneiche\n",
      "Processing Record 13 of Set 7 | Tiarei\n",
      "City not found....Skipping............\n",
      "Processing Record 14 of Set 7 | Upernavik\n",
      "Processing Record 15 of Set 7 | Constitucion\n",
      "Processing Record 16 of Set 7 | Vangaindrano\n",
      "Processing Record 17 of Set 7 | Colquechaca\n",
      "Processing Record 18 of Set 7 | Dudinka\n",
      "Processing Record 19 of Set 7 | Abnūb\n",
      "Processing Record 20 of Set 7 | Ajdabiya\n",
      "Processing Record 21 of Set 7 | Henties Bay\n",
      "Processing Record 22 of Set 7 | Zhezkazgan\n",
      "City not found....Skipping............\n",
      "Processing Record 23 of Set 7 | Kununurra\n",
      "Processing Record 24 of Set 7 | Pochutla\n",
      "Processing Record 25 of Set 7 | Palu\n",
      "Processing Record 26 of Set 7 | Aitape\n",
      "Processing Record 27 of Set 7 | Horqueta\n",
      "Processing Record 28 of Set 7 | Sinnamary\n",
      "City not found....Skipping............\n",
      "Processing Record 29 of Set 7 | Bocas del Toro\n",
      "Processing Record 30 of Set 7 | Sibolga\n",
      "Processing Record 31 of Set 7 | Cap Malheureux\n",
      "City not found....Skipping............\n",
      "Processing Record 32 of Set 7 | Waddān\n",
      "Processing Record 33 of Set 7 | Tupiza\n",
      "Processing Record 34 of Set 7 | Beringovskiy\n",
      "Processing Record 35 of Set 7 | Torbay\n",
      "Processing Record 36 of Set 7 | Owando\n",
      "City not found....Skipping............\n",
      "Processing Record 37 of Set 7 | Antofagasta\n",
      "City not found....Skipping............\n",
      "Processing Record 38 of Set 7 | Yilan\n",
      "Processing Record 39 of Set 7 | San Luis\n",
      "Processing Record 40 of Set 7 | Chumikan\n",
      "Processing Record 41 of Set 7 | Bloomingdale\n",
      "Processing Record 42 of Set 7 | Zhigansk\n",
      "Processing Record 43 of Set 7 | Sakakah\n",
      "Processing Record 44 of Set 7 | Virār\n",
      "Processing Record 45 of Set 7 | Mucurapo\n",
      "Processing Record 46 of Set 7 | Russell\n",
      "Processing Record 47 of Set 7 | Ogawa\n",
      "Processing Record 48 of Set 7 | Ugoofaaru\n",
      "City not found....Skipping............\n",
      "Processing Record 49 of Set 7 | Srandakan\n",
      "Processing Record 50 of Set 7 | Sakaraha\n",
      "City not found....Skipping............\n",
      "Processing Record 1 of Set 8 | Wencheng\n",
      "Processing Record 2 of Set 8 | Sorong\n",
      "City not found....Skipping............\n",
      "Processing Record 3 of Set 8 | Winneba\n",
      "Processing Record 4 of Set 8 | Mahuva\n",
      "Processing Record 5 of Set 8 | Tazovsky\n",
      "Processing Record 6 of Set 8 | Santoña\n"
     ]
    },
    {
     "name": "stdout",
     "output_type": "stream",
     "text": [
      "Processing Record 7 of Set 8 | Umluj\n",
      "City not found....Skipping............\n",
      "Processing Record 8 of Set 8 | Newport\n",
      "Processing Record 9 of Set 8 | Ucluelet\n",
      "Processing Record 10 of Set 8 | Severo-Kuril'sk\n",
      "City not found....Skipping............\n",
      "Processing Record 11 of Set 8 | Maribo\n",
      "Processing Record 12 of Set 8 | Weyburn\n",
      "Processing Record 13 of Set 8 | Adrar\n",
      "Processing Record 14 of Set 8 | Amudat\n",
      "Processing Record 15 of Set 8 | Los Llanos de Aridane\n",
      "Processing Record 16 of Set 8 | Mount Gambier\n",
      "Processing Record 17 of Set 8 | San Miguel de Tucumán\n",
      "Processing Record 18 of Set 8 | Dolores\n",
      "Processing Record 19 of Set 8 | Idritsa\n",
      "Processing Record 20 of Set 8 | Kavaratti\n",
      "Processing Record 21 of Set 8 | Itoman\n",
      "Processing Record 22 of Set 8 | Huancabamba\n",
      "Processing Record 23 of Set 8 | Carbonia\n",
      "Processing Record 24 of Set 8 | Lethem\n",
      "Processing Record 25 of Set 8 | Richards Bay\n",
      "Processing Record 26 of Set 8 | Tasiilaq\n",
      "City not found....Skipping............\n",
      "Processing Record 27 of Set 8 | Opuwo\n",
      "Processing Record 28 of Set 8 | Ouadda\n",
      "Processing Record 29 of Set 8 | Cherëmukhovo\n",
      "Processing Record 30 of Set 8 | Loandjili\n",
      "Processing Record 31 of Set 8 | Batagay\n",
      "Processing Record 32 of Set 8 | São Filipe\n",
      "City not found....Skipping............\n",
      "City not found....Skipping............\n",
      "Processing Record 33 of Set 8 | Korla\n",
      "Processing Record 34 of Set 8 | Dhārchula\n",
      "Processing Record 35 of Set 8 | Kahului\n",
      "Processing Record 36 of Set 8 | Martaban\n",
      "Processing Record 37 of Set 8 | Denia\n",
      "Processing Record 38 of Set 8 | Tautira\n",
      "Processing Record 39 of Set 8 | Nouadhibou\n",
      "Processing Record 40 of Set 8 | Fergus Falls\n",
      "Processing Record 41 of Set 8 | Waingapu\n",
      "Processing Record 42 of Set 8 | Santa Maria\n",
      "Processing Record 43 of Set 8 | Ketchikan\n",
      "Processing Record 44 of Set 8 | Acopiara\n",
      "Processing Record 45 of Set 8 | Cayenne\n",
      "Processing Record 46 of Set 8 | Coolum Beach\n",
      "Processing Record 47 of Set 8 | Moree\n",
      "Processing Record 48 of Set 8 | Wukari\n",
      "Processing Record 49 of Set 8 | Olinda\n",
      "Processing Record 50 of Set 8 | Scarsdale\n",
      "Processing Record 1 of Set 9 | Bathsheba\n",
      "City not found....Skipping............\n",
      "Processing Record 2 of Set 9 | Granard\n",
      "Processing Record 3 of Set 9 | Shimoda\n",
      "Processing Record 4 of Set 9 | Inndyr\n",
      "Processing Record 5 of Set 9 | Douglas\n",
      "Processing Record 6 of Set 9 | Valparaíso\n",
      "Processing Record 7 of Set 9 | Chapais\n",
      "Processing Record 8 of Set 9 | Berlevåg\n",
      "City not found....Skipping............\n",
      "Processing Record 9 of Set 9 | Emba\n",
      "Processing Record 10 of Set 9 | Mackay\n",
      "Processing Record 11 of Set 9 | Urdoma\n",
      "Processing Record 12 of Set 9 | Haimen\n",
      "Processing Record 13 of Set 9 | Margate\n",
      "Processing Record 14 of Set 9 | Havøysund\n",
      "Processing Record 15 of Set 9 | Mitsamiouli\n",
      "Processing Record 16 of Set 9 | Grand Gaube\n",
      "Processing Record 17 of Set 9 | Deputatsky\n",
      "Processing Record 18 of Set 9 | Bubaque\n",
      "Processing Record 19 of Set 9 | Palmer\n",
      "Processing Record 20 of Set 9 | Beloha\n",
      "Processing Record 21 of Set 9 | Mbala\n",
      "Processing Record 22 of Set 9 | Aleksandrovsk-Sakhalinskiy\n",
      "Processing Record 23 of Set 9 | Shahreza\n",
      "Processing Record 24 of Set 9 | Río Gallegos\n",
      "Processing Record 25 of Set 9 | Talcahuano\n",
      "Processing Record 26 of Set 9 | Touros\n",
      "Processing Record 27 of Set 9 | Haines Junction\n",
      "City not found....Skipping............\n",
      "Processing Record 28 of Set 9 | Williston\n",
      "City not found....Skipping............\n",
      "Processing Record 29 of Set 9 | Poum\n",
      "Processing Record 30 of Set 9 | Atambua\n",
      "Processing Record 31 of Set 9 | Bolshoy Lug\n",
      "Processing Record 32 of Set 9 | Bologoye\n",
      "Processing Record 33 of Set 9 | Carutapera\n",
      "City not found....Skipping............\n",
      "Processing Record 34 of Set 9 | Hochstadt\n",
      "Processing Record 35 of Set 9 | Karasjok\n",
      "Processing Record 36 of Set 9 | Rapid Valley\n",
      "Processing Record 37 of Set 9 | Vestmanna\n",
      "Processing Record 38 of Set 9 | Kuminskiy\n",
      "Processing Record 39 of Set 9 | Victor Harbor\n",
      "City not found....Skipping............\n",
      "Processing Record 40 of Set 9 | Choya\n",
      "City not found....Skipping............\n",
      "Processing Record 41 of Set 9 | Dongying\n",
      "Processing Record 42 of Set 9 | Mangai\n",
      "Processing Record 43 of Set 9 | Konëvo\n",
      "Processing Record 44 of Set 9 | Taoudenni\n",
      "Processing Record 45 of Set 9 | Porosozero\n",
      "Processing Record 46 of Set 9 | Umm Kaddadah\n",
      "Processing Record 47 of Set 9 | Mossamedes\n",
      "Processing Record 48 of Set 9 | Assiniboia\n",
      "City not found....Skipping............\n",
      "Processing Record 49 of Set 9 | Port Shepstone\n",
      "Processing Record 50 of Set 9 | Salamanca\n",
      "Processing Record 1 of Set 10 | Ibotirama\n",
      "Processing Record 2 of Set 10 | Hamilton\n",
      "City not found....Skipping............\n",
      "Processing Record 3 of Set 10 | Kasongo-Lunda\n",
      "Processing Record 4 of Set 10 | Saint-Pierre\n",
      "Processing Record 5 of Set 10 | Hay River\n",
      "Processing Record 6 of Set 10 | Tilichiki\n",
      "Processing Record 7 of Set 10 | Oneonta\n",
      "Processing Record 8 of Set 10 | Baykit\n",
      "Processing Record 9 of Set 10 | Chennai\n",
      "Processing Record 10 of Set 10 | Vardø\n",
      "Processing Record 11 of Set 10 | Ixtapa\n",
      "Processing Record 12 of Set 10 | Oodweyne\n",
      "Processing Record 13 of Set 10 | Kaka\n",
      "Processing Record 14 of Set 10 | Pacific Grove\n",
      "Processing Record 15 of Set 10 | Flin Flon\n",
      "City not found....Skipping............\n",
      "Processing Record 16 of Set 10 | Yelan’-Kolenovskiy\n",
      "Processing Record 17 of Set 10 | San Rafael\n",
      "Processing Record 18 of Set 10 | Gambēla\n",
      "Processing Record 19 of Set 10 | Derzhavīnsk\n",
      "Processing Record 20 of Set 10 | Omaruru\n",
      "City not found....Skipping............\n",
      "Processing Record 21 of Set 10 | Vila Velha\n",
      "Processing Record 22 of Set 10 | Quatre Cocos\n",
      "Processing Record 23 of Set 10 | Balaipungut\n",
      "Processing Record 24 of Set 10 | Gornopravdinsk\n",
      "Processing Record 25 of Set 10 | Xi'an\n",
      "Processing Record 26 of Set 10 | North Bend\n",
      "Processing Record 27 of Set 10 | Kayerkan\n",
      "Processing Record 28 of Set 10 | Alta Gracia\n",
      "Processing Record 29 of Set 10 | Mongo\n",
      "Processing Record 30 of Set 10 | Omboué\n",
      "Processing Record 31 of Set 10 | Chimoio\n",
      "Processing Record 32 of Set 10 | Farah\n",
      "Processing Record 33 of Set 10 | Wasilla\n",
      "Processing Record 34 of Set 10 | Muhafazat Lahij\n",
      "Processing Record 35 of Set 10 | Caucayá\n",
      "Processing Record 36 of Set 10 | Abhā\n",
      "Processing Record 37 of Set 10 | Kuruman\n",
      "Processing Record 38 of Set 10 | Broken Hill\n",
      "Processing Record 39 of Set 10 | Makabe\n",
      "Processing Record 40 of Set 10 | Tendō\n",
      "Processing Record 41 of Set 10 | Ormara\n",
      "Processing Record 42 of Set 10 | Zemio\n",
      "Processing Record 43 of Set 10 | Kochki\n",
      "City not found....Skipping............\n",
      "Processing Record 44 of Set 10 | Tooele\n",
      "Processing Record 45 of Set 10 | Sesheke\n",
      "Processing Record 46 of Set 10 | Canto do Buriti\n",
      "Processing Record 47 of Set 10 | Saldanha\n",
      "Processing Record 48 of Set 10 | Aleppo Governorate\n",
      "Processing Record 49 of Set 10 | Juntas\n",
      "Processing Record 50 of Set 10 | Fort Nelson\n",
      "Processing Record 1 of Set 11 | Huambo\n",
      "Processing Record 2 of Set 11 | Krylovskaya\n",
      "Processing Record 3 of Set 11 | Terney\n",
      "Processing Record 4 of Set 11 | Antsohihy\n",
      "Processing Record 5 of Set 11 | Pingyi\n",
      "City not found....Skipping............\n",
      "Processing Record 6 of Set 11 | Goiás\n",
      "Processing Record 7 of Set 11 | Lagoa\n",
      "Processing Record 8 of Set 11 | Zheleznodorozhnyy\n",
      "Processing Record 9 of Set 11 | Arrondissement de Lannion\n",
      "Processing Record 10 of Set 11 | Whitehorse\n",
      "Processing Record 11 of Set 11 | Inhambane\n",
      "Processing Record 12 of Set 11 | São João da Barra\n",
      "Processing Record 13 of Set 11 | Barra do Bugres\n",
      "Processing Record 14 of Set 11 | Kimberley\n",
      "Processing Record 15 of Set 11 | Fortuna\n",
      "Processing Record 16 of Set 11 | La Ronge\n",
      "Processing Record 17 of Set 11 | Okakarara\n",
      "Processing Record 18 of Set 11 | Port Lincoln\n",
      "Processing Record 19 of Set 11 | Huarmey\n",
      "Processing Record 20 of Set 11 | Honiara\n",
      "Processing Record 21 of Set 11 | Krasnosel'kup\n",
      "Processing Record 22 of Set 11 | Palmas Bellas\n",
      "Processing Record 23 of Set 11 | Maracaju\n",
      "Processing Record 24 of Set 11 | San Matías\n",
      "Processing Record 25 of Set 11 | Alexandria\n",
      "Processing Record 26 of Set 11 | Bystřice nad Pernštejnem\n",
      "Processing Record 27 of Set 11 | Baoding\n",
      "Processing Record 28 of Set 11 | Arroio Grande\n",
      "City not found....Skipping............\n",
      "Processing Record 29 of Set 11 | Andenes\n",
      "Processing Record 30 of Set 11 | Kuandian\n",
      "Processing Record 31 of Set 11 | Nanortalik\n",
      "Processing Record 32 of Set 11 | Kinablangan\n",
      "Processing Record 33 of Set 11 | Zhoucheng\n"
     ]
    },
    {
     "name": "stdout",
     "output_type": "stream",
     "text": [
      "Processing Record 34 of Set 11 | Burnie\n",
      "Processing Record 35 of Set 11 | Udachny\n",
      "\n",
      "-----------------------------\n",
      "Data Retrival Complete\n",
      "-----------------------------\n"
     ]
    }
   ],
   "source": [
    "#Create variables to count record num and set\n",
    "record_num = 1\n",
    "record_set = 1\n",
    "\n",
    "#Assign variable for the base url for the api call\n",
    "base_url = 'http://api.openweathermap.org/data/2.5/weather?units=imperial&q='\n",
    "\n",
    "#Run the API call for each city\n",
    "print('''\n",
    "Beginning Data Retrieval\n",
    "-----------------------------''')\n",
    "\n",
    "for index, row in city_data.iterrows(): \n",
    "    #Create the query url for the API call\n",
    "    query_url = base_url + row['City'] + ',' + row['Country'] + '&APPID=' + api_key\n",
    "    \n",
    "    #API call\n",
    "    response = requests.get(query_url).json()\n",
    "    \n",
    "    #Add an exception script in case the city is not found\n",
    "    try: \n",
    "        #Print meassage to show user that the data is being retrieved\n",
    "        print(f'Processing Record {record_num} of Set {record_set} | {response[\"name\"]}')\n",
    "        \n",
    "        #Add returned data to the city_data dataframe\n",
    "        city_data.loc[index, 'Cloudiness'] = response['clouds']['all']\n",
    "        city_data.loc[index, 'Date'] = response['dt']\n",
    "        city_data.loc[index, 'Humidity'] = response['main']['humidity']\n",
    "        city_data.loc[index, 'Lat'] = response['coord']['lat']\n",
    "        city_data.loc[index, 'Long'] = response['coord']['lon']\n",
    "        city_data.loc[index, 'Max Temp'] = response['main']['temp_max']\n",
    "        city_data.loc[index, 'Windspeed'] = response['wind']['speed']\n",
    "        \n",
    "        #Increase the record count\n",
    "        record_num += 1\n",
    "        \n",
    "    except (KeyError, IndexError):\n",
    "        print(\"City not found....Skipping............\")\n",
    "    \n",
    "    #Add an If statement for the API call limits\n",
    "    if record_num == 51:\n",
    "        record_set += 1\n",
    "        record_num = 1\n",
    "        time.sleep(60)\n",
    "        \n",
    "print('''\n",
    "-----------------------------\n",
    "Data Retrival Complete\n",
    "-----------------------------''')"
   ]
  },
  {
   "cell_type": "markdown",
   "metadata": {},
   "source": [
    "### Convert Raw Data to DataFrame\n",
    "* Export the city data into a .csv.\n",
    "* Display the DataFrame"
   ]
  },
  {
   "cell_type": "code",
   "execution_count": 7,
   "metadata": {},
   "outputs": [
    {
     "data": {
      "text/html": [
       "<div>\n",
       "<style scoped>\n",
       "    .dataframe tbody tr th:only-of-type {\n",
       "        vertical-align: middle;\n",
       "    }\n",
       "\n",
       "    .dataframe tbody tr th {\n",
       "        vertical-align: top;\n",
       "    }\n",
       "\n",
       "    .dataframe thead th {\n",
       "        text-align: right;\n",
       "    }\n",
       "</style>\n",
       "<table border=\"1\" class=\"dataframe\">\n",
       "  <thead>\n",
       "    <tr style=\"text-align: right;\">\n",
       "      <th></th>\n",
       "      <th>City</th>\n",
       "      <th>Lat</th>\n",
       "      <th>Long</th>\n",
       "      <th>Max Temp</th>\n",
       "      <th>Humidity</th>\n",
       "      <th>Cloudiness</th>\n",
       "      <th>Country</th>\n",
       "      <th>Date</th>\n",
       "      <th>Windspeed</th>\n",
       "    </tr>\n",
       "  </thead>\n",
       "  <tbody>\n",
       "    <tr>\n",
       "      <th>0</th>\n",
       "      <td>joshimath</td>\n",
       "      <td>30.57</td>\n",
       "      <td>79.57</td>\n",
       "      <td>71.94</td>\n",
       "      <td>46</td>\n",
       "      <td>30</td>\n",
       "      <td>IN</td>\n",
       "      <td>1600140768</td>\n",
       "      <td>4.85</td>\n",
       "    </tr>\n",
       "    <tr>\n",
       "      <th>1</th>\n",
       "      <td>pasni</td>\n",
       "      <td>25.26</td>\n",
       "      <td>63.47</td>\n",
       "      <td>87.39</td>\n",
       "      <td>30</td>\n",
       "      <td>100</td>\n",
       "      <td>PK</td>\n",
       "      <td>1600140769</td>\n",
       "      <td>17.45</td>\n",
       "    </tr>\n",
       "    <tr>\n",
       "      <th>2</th>\n",
       "      <td>cidreira</td>\n",
       "      <td>-30.18</td>\n",
       "      <td>-50.21</td>\n",
       "      <td>51.82</td>\n",
       "      <td>62</td>\n",
       "      <td>90</td>\n",
       "      <td>BR</td>\n",
       "      <td>1600140769</td>\n",
       "      <td>4.21</td>\n",
       "    </tr>\n",
       "    <tr>\n",
       "      <th>3</th>\n",
       "      <td>tuktoyaktuk</td>\n",
       "      <td>69.45</td>\n",
       "      <td>-133.04</td>\n",
       "      <td>32</td>\n",
       "      <td>90</td>\n",
       "      <td>75</td>\n",
       "      <td>CA</td>\n",
       "      <td>1600140769</td>\n",
       "      <td>9.17</td>\n",
       "    </tr>\n",
       "    <tr>\n",
       "      <th>4</th>\n",
       "      <td>saint-philippe</td>\n",
       "      <td>-21.36</td>\n",
       "      <td>55.77</td>\n",
       "      <td>63</td>\n",
       "      <td>59</td>\n",
       "      <td>40</td>\n",
       "      <td>RE</td>\n",
       "      <td>1600140769</td>\n",
       "      <td>6.93</td>\n",
       "    </tr>\n",
       "  </tbody>\n",
       "</table>\n",
       "</div>"
      ],
      "text/plain": [
       "             City    Lat    Long Max Temp Humidity Cloudiness Country  \\\n",
       "0       joshimath  30.57   79.57    71.94       46         30      IN   \n",
       "1           pasni  25.26   63.47    87.39       30        100      PK   \n",
       "2        cidreira -30.18  -50.21    51.82       62         90      BR   \n",
       "3     tuktoyaktuk  69.45 -133.04       32       90         75      CA   \n",
       "4  saint-philippe -21.36   55.77       63       59         40      RE   \n",
       "\n",
       "         Date  Windspeed  \n",
       "0  1600140768       4.85  \n",
       "1  1600140769      17.45  \n",
       "2  1600140769       4.21  \n",
       "3  1600140769       9.17  \n",
       "4  1600140769       6.93  "
      ]
     },
     "execution_count": 7,
     "metadata": {},
     "output_type": "execute_result"
    }
   ],
   "source": [
    "#Remove cities with missing data\n",
    "city_data2 = city_data.dropna()\n",
    "\n",
    "#Save dataframe to csv\n",
    "city_data2.to_csv(\"Output_Data/CityWeatherData.csv\", index=False, header=True)\n",
    "\n",
    "#Show dataframe \n",
    "city_data2.head()"
   ]
  },
  {
   "cell_type": "code",
   "execution_count": 58,
   "metadata": {},
   "outputs": [
    {
     "data": {
      "text/html": [
       "<div>\n",
       "<style scoped>\n",
       "    .dataframe tbody tr th:only-of-type {\n",
       "        vertical-align: middle;\n",
       "    }\n",
       "\n",
       "    .dataframe tbody tr th {\n",
       "        vertical-align: top;\n",
       "    }\n",
       "\n",
       "    .dataframe thead th {\n",
       "        text-align: right;\n",
       "    }\n",
       "</style>\n",
       "<table border=\"1\" class=\"dataframe\">\n",
       "  <thead>\n",
       "    <tr style=\"text-align: right;\">\n",
       "      <th></th>\n",
       "      <th>Lat</th>\n",
       "      <th>Long</th>\n",
       "      <th>Max Temp</th>\n",
       "      <th>Humidity</th>\n",
       "      <th>Cloudiness</th>\n",
       "      <th>Windspeed</th>\n",
       "    </tr>\n",
       "  </thead>\n",
       "  <tbody>\n",
       "    <tr>\n",
       "      <th>count</th>\n",
       "      <td>535.000000</td>\n",
       "      <td>535.000000</td>\n",
       "      <td>535.000000</td>\n",
       "      <td>535.000000</td>\n",
       "      <td>535.000000</td>\n",
       "      <td>535.000000</td>\n",
       "    </tr>\n",
       "    <tr>\n",
       "      <th>mean</th>\n",
       "      <td>17.297514</td>\n",
       "      <td>19.094280</td>\n",
       "      <td>65.534841</td>\n",
       "      <td>70.474766</td>\n",
       "      <td>50.461682</td>\n",
       "      <td>8.061832</td>\n",
       "    </tr>\n",
       "    <tr>\n",
       "      <th>std</th>\n",
       "      <td>34.151822</td>\n",
       "      <td>89.117062</td>\n",
       "      <td>15.077429</td>\n",
       "      <td>20.350184</td>\n",
       "      <td>38.509082</td>\n",
       "      <td>5.301254</td>\n",
       "    </tr>\n",
       "    <tr>\n",
       "      <th>min</th>\n",
       "      <td>-54.800000</td>\n",
       "      <td>-175.200000</td>\n",
       "      <td>23.110000</td>\n",
       "      <td>3.000000</td>\n",
       "      <td>0.000000</td>\n",
       "      <td>0.250000</td>\n",
       "    </tr>\n",
       "    <tr>\n",
       "      <th>25%</th>\n",
       "      <td>-12.840000</td>\n",
       "      <td>-57.620000</td>\n",
       "      <td>54.025000</td>\n",
       "      <td>60.000000</td>\n",
       "      <td>4.500000</td>\n",
       "      <td>3.925000</td>\n",
       "    </tr>\n",
       "    <tr>\n",
       "      <th>50%</th>\n",
       "      <td>19.290000</td>\n",
       "      <td>25.050000</td>\n",
       "      <td>68.000000</td>\n",
       "      <td>74.000000</td>\n",
       "      <td>55.000000</td>\n",
       "      <td>7.000000</td>\n",
       "    </tr>\n",
       "    <tr>\n",
       "      <th>75%</th>\n",
       "      <td>47.605000</td>\n",
       "      <td>92.760000</td>\n",
       "      <td>77.750000</td>\n",
       "      <td>86.000000</td>\n",
       "      <td>89.500000</td>\n",
       "      <td>11.180000</td>\n",
       "    </tr>\n",
       "    <tr>\n",
       "      <th>max</th>\n",
       "      <td>78.220000</td>\n",
       "      <td>179.320000</td>\n",
       "      <td>97.570000</td>\n",
       "      <td>100.000000</td>\n",
       "      <td>100.000000</td>\n",
       "      <td>42.320000</td>\n",
       "    </tr>\n",
       "  </tbody>\n",
       "</table>\n",
       "</div>"
      ],
      "text/plain": [
       "              Lat        Long    Max Temp    Humidity  Cloudiness   Windspeed\n",
       "count  535.000000  535.000000  535.000000  535.000000  535.000000  535.000000\n",
       "mean    17.297514   19.094280   65.534841   70.474766   50.461682    8.061832\n",
       "std     34.151822   89.117062   15.077429   20.350184   38.509082    5.301254\n",
       "min    -54.800000 -175.200000   23.110000    3.000000    0.000000    0.250000\n",
       "25%    -12.840000  -57.620000   54.025000   60.000000    4.500000    3.925000\n",
       "50%     19.290000   25.050000   68.000000   74.000000   55.000000    7.000000\n",
       "75%     47.605000   92.760000   77.750000   86.000000   89.500000   11.180000\n",
       "max     78.220000  179.320000   97.570000  100.000000  100.000000   42.320000"
      ]
     },
     "execution_count": 58,
     "metadata": {},
     "output_type": "execute_result"
    }
   ],
   "source": [
    "#city_data2[\"Lat\"] = pd.to_numeric(city_data2[\"Lat\"])\n",
    "#city_data2[\"Long\"] = pd.to_numeric(city_data2[\"Long\"])\n",
    "#city_data2[\"Max Temp\"] = pd.to_numeric(city_data2[\"Max Temp\"])\n",
    "#city_data2[\"Humidity\"] = pd.to_numeric(city_data2[\"Humidity\"])\n",
    "#city_data2[\"Cloudiness\"] = pd.to_numeric(city_data2[\"Cloudiness\"])\n",
    "city_data2.describe()"
   ]
  },
  {
   "cell_type": "markdown",
   "metadata": {},
   "source": [
    "## Inspect the data and remove the cities where the humidity > 100%.\n",
    "----\n",
    "Skip this step if there are no cities that have humidity > 100%. "
   ]
  },
  {
   "cell_type": "code",
   "execution_count": 6,
   "metadata": {},
   "outputs": [
    {
     "data": {
      "text/html": [
       "<div>\n",
       "<style scoped>\n",
       "    .dataframe tbody tr th:only-of-type {\n",
       "        vertical-align: middle;\n",
       "    }\n",
       "\n",
       "    .dataframe tbody tr th {\n",
       "        vertical-align: top;\n",
       "    }\n",
       "\n",
       "    .dataframe thead th {\n",
       "        text-align: right;\n",
       "    }\n",
       "</style>\n",
       "<table border=\"1\" class=\"dataframe\">\n",
       "  <thead>\n",
       "    <tr style=\"text-align: right;\">\n",
       "      <th></th>\n",
       "      <th>Lat</th>\n",
       "      <th>Lng</th>\n",
       "      <th>Max Temp</th>\n",
       "      <th>Humidity</th>\n",
       "      <th>Cloudiness</th>\n",
       "      <th>Wind Speed</th>\n",
       "      <th>Date</th>\n",
       "    </tr>\n",
       "  </thead>\n",
       "  <tbody>\n",
       "    <tr>\n",
       "      <th>count</th>\n",
       "      <td>550.000000</td>\n",
       "      <td>550.000000</td>\n",
       "      <td>550.000000</td>\n",
       "      <td>550.000000</td>\n",
       "      <td>550.000000</td>\n",
       "      <td>550.000000</td>\n",
       "      <td>5.500000e+02</td>\n",
       "    </tr>\n",
       "    <tr>\n",
       "      <th>mean</th>\n",
       "      <td>19.973545</td>\n",
       "      <td>17.124400</td>\n",
       "      <td>58.331400</td>\n",
       "      <td>67.890909</td>\n",
       "      <td>52.141818</td>\n",
       "      <td>8.544800</td>\n",
       "      <td>1.585764e+09</td>\n",
       "    </tr>\n",
       "    <tr>\n",
       "      <th>std</th>\n",
       "      <td>33.284840</td>\n",
       "      <td>91.595451</td>\n",
       "      <td>25.795297</td>\n",
       "      <td>20.864881</td>\n",
       "      <td>35.766469</td>\n",
       "      <td>6.078869</td>\n",
       "      <td>5.539674e+01</td>\n",
       "    </tr>\n",
       "    <tr>\n",
       "      <th>min</th>\n",
       "      <td>-54.800000</td>\n",
       "      <td>-179.170000</td>\n",
       "      <td>-11.340000</td>\n",
       "      <td>9.000000</td>\n",
       "      <td>0.000000</td>\n",
       "      <td>0.160000</td>\n",
       "      <td>1.585764e+09</td>\n",
       "    </tr>\n",
       "    <tr>\n",
       "      <th>25%</th>\n",
       "      <td>-8.077500</td>\n",
       "      <td>-64.627500</td>\n",
       "      <td>42.800000</td>\n",
       "      <td>55.000000</td>\n",
       "      <td>20.000000</td>\n",
       "      <td>4.525000</td>\n",
       "      <td>1.585764e+09</td>\n",
       "    </tr>\n",
       "    <tr>\n",
       "      <th>50%</th>\n",
       "      <td>23.630000</td>\n",
       "      <td>19.635000</td>\n",
       "      <td>64.940000</td>\n",
       "      <td>72.000000</td>\n",
       "      <td>57.000000</td>\n",
       "      <td>7.325000</td>\n",
       "      <td>1.585764e+09</td>\n",
       "    </tr>\n",
       "    <tr>\n",
       "      <th>75%</th>\n",
       "      <td>48.672500</td>\n",
       "      <td>97.350000</td>\n",
       "      <td>78.800000</td>\n",
       "      <td>83.000000</td>\n",
       "      <td>86.750000</td>\n",
       "      <td>11.410000</td>\n",
       "      <td>1.585764e+09</td>\n",
       "    </tr>\n",
       "    <tr>\n",
       "      <th>max</th>\n",
       "      <td>78.220000</td>\n",
       "      <td>179.320000</td>\n",
       "      <td>102.200000</td>\n",
       "      <td>100.000000</td>\n",
       "      <td>100.000000</td>\n",
       "      <td>46.080000</td>\n",
       "      <td>1.585764e+09</td>\n",
       "    </tr>\n",
       "  </tbody>\n",
       "</table>\n",
       "</div>"
      ],
      "text/plain": [
       "              Lat         Lng    Max Temp    Humidity  Cloudiness  Wind Speed  \\\n",
       "count  550.000000  550.000000  550.000000  550.000000  550.000000  550.000000   \n",
       "mean    19.973545   17.124400   58.331400   67.890909   52.141818    8.544800   \n",
       "std     33.284840   91.595451   25.795297   20.864881   35.766469    6.078869   \n",
       "min    -54.800000 -179.170000  -11.340000    9.000000    0.000000    0.160000   \n",
       "25%     -8.077500  -64.627500   42.800000   55.000000   20.000000    4.525000   \n",
       "50%     23.630000   19.635000   64.940000   72.000000   57.000000    7.325000   \n",
       "75%     48.672500   97.350000   78.800000   83.000000   86.750000   11.410000   \n",
       "max     78.220000  179.320000  102.200000  100.000000  100.000000   46.080000   \n",
       "\n",
       "               Date  \n",
       "count  5.500000e+02  \n",
       "mean   1.585764e+09  \n",
       "std    5.539674e+01  \n",
       "min    1.585764e+09  \n",
       "25%    1.585764e+09  \n",
       "50%    1.585764e+09  \n",
       "75%    1.585764e+09  \n",
       "max    1.585764e+09  "
      ]
     },
     "execution_count": 6,
     "metadata": {},
     "output_type": "execute_result"
    }
   ],
   "source": [
    "#None with humidity over 100%"
   ]
  },
  {
   "cell_type": "code",
   "execution_count": 17,
   "metadata": {},
   "outputs": [
    {
     "data": {
      "text/plain": [
       "Int64Index([], dtype='int64')"
      ]
     },
     "execution_count": 17,
     "metadata": {},
     "output_type": "execute_result"
    }
   ],
   "source": [
    "#  Get the indices of cities that have humidity over 100%.\n"
   ]
  },
  {
   "cell_type": "code",
   "execution_count": 19,
   "metadata": {},
   "outputs": [
    {
     "data": {
      "text/html": [
       "<div>\n",
       "<style scoped>\n",
       "    .dataframe tbody tr th:only-of-type {\n",
       "        vertical-align: middle;\n",
       "    }\n",
       "\n",
       "    .dataframe tbody tr th {\n",
       "        vertical-align: top;\n",
       "    }\n",
       "\n",
       "    .dataframe thead th {\n",
       "        text-align: right;\n",
       "    }\n",
       "</style>\n",
       "<table border=\"1\" class=\"dataframe\">\n",
       "  <thead>\n",
       "    <tr style=\"text-align: right;\">\n",
       "      <th></th>\n",
       "      <th>City</th>\n",
       "      <th>Lat</th>\n",
       "      <th>Lng</th>\n",
       "      <th>Max Temp</th>\n",
       "      <th>Humidity</th>\n",
       "      <th>Cloudiness</th>\n",
       "      <th>Wind Speed</th>\n",
       "      <th>Country</th>\n",
       "      <th>Date</th>\n",
       "    </tr>\n",
       "  </thead>\n",
       "  <tbody>\n",
       "    <tr>\n",
       "      <td>0</td>\n",
       "      <td>butaritari</td>\n",
       "      <td>3.07</td>\n",
       "      <td>172.79</td>\n",
       "      <td>83.32</td>\n",
       "      <td>74</td>\n",
       "      <td>84</td>\n",
       "      <td>10.42</td>\n",
       "      <td>KI</td>\n",
       "      <td>1593605283</td>\n",
       "    </tr>\n",
       "    <tr>\n",
       "      <td>1</td>\n",
       "      <td>yerbogachen</td>\n",
       "      <td>61.28</td>\n",
       "      <td>108.01</td>\n",
       "      <td>79.52</td>\n",
       "      <td>58</td>\n",
       "      <td>20</td>\n",
       "      <td>7.70</td>\n",
       "      <td>RU</td>\n",
       "      <td>1593605121</td>\n",
       "    </tr>\n",
       "    <tr>\n",
       "      <td>2</td>\n",
       "      <td>cape town</td>\n",
       "      <td>-33.93</td>\n",
       "      <td>18.42</td>\n",
       "      <td>73.00</td>\n",
       "      <td>77</td>\n",
       "      <td>27</td>\n",
       "      <td>4.70</td>\n",
       "      <td>ZA</td>\n",
       "      <td>1593605039</td>\n",
       "    </tr>\n",
       "    <tr>\n",
       "      <td>3</td>\n",
       "      <td>touba</td>\n",
       "      <td>8.28</td>\n",
       "      <td>-7.68</td>\n",
       "      <td>79.97</td>\n",
       "      <td>75</td>\n",
       "      <td>82</td>\n",
       "      <td>3.58</td>\n",
       "      <td>CI</td>\n",
       "      <td>1593605284</td>\n",
       "    </tr>\n",
       "    <tr>\n",
       "      <td>4</td>\n",
       "      <td>jamestown</td>\n",
       "      <td>42.10</td>\n",
       "      <td>-79.24</td>\n",
       "      <td>64.00</td>\n",
       "      <td>88</td>\n",
       "      <td>1</td>\n",
       "      <td>6.93</td>\n",
       "      <td>US</td>\n",
       "      <td>1593605284</td>\n",
       "    </tr>\n",
       "  </tbody>\n",
       "</table>\n",
       "</div>"
      ],
      "text/plain": [
       "          City    Lat     Lng  Max Temp  Humidity  Cloudiness  Wind Speed  \\\n",
       "0   butaritari   3.07  172.79     83.32        74          84       10.42   \n",
       "1  yerbogachen  61.28  108.01     79.52        58          20        7.70   \n",
       "2    cape town -33.93   18.42     73.00        77          27        4.70   \n",
       "3        touba   8.28   -7.68     79.97        75          82        3.58   \n",
       "4    jamestown  42.10  -79.24     64.00        88           1        6.93   \n",
       "\n",
       "  Country        Date  \n",
       "0      KI  1593605283  \n",
       "1      RU  1593605121  \n",
       "2      ZA  1593605039  \n",
       "3      CI  1593605284  \n",
       "4      US  1593605284  "
      ]
     },
     "execution_count": 19,
     "metadata": {},
     "output_type": "execute_result"
    }
   ],
   "source": [
    "# Make a new DataFrame equal to the city data to drop all humidity outliers by index.\n",
    "# Passing \"inplace=False\" will make a copy of the city_data DataFrame, which we call \"clean_city_data\".\n"
   ]
  },
  {
   "cell_type": "code",
   "execution_count": null,
   "metadata": {},
   "outputs": [],
   "source": [
    "\n"
   ]
  },
  {
   "cell_type": "markdown",
   "metadata": {},
   "source": [
    "## Plotting the Data\n",
    "* Use proper labeling of the plots using plot titles (including date of analysis) and axes labels.\n",
    "* Save the plotted figures as .pngs."
   ]
  },
  {
   "cell_type": "markdown",
   "metadata": {},
   "source": [
    "## Latitude vs. Temperature Plot"
   ]
  },
  {
   "cell_type": "code",
   "execution_count": 63,
   "metadata": {
    "scrolled": true
   },
   "outputs": [
    {
     "data": {
      "image/png": "[encoded data removed]",
      "text/plain": [
       "<Figure size 432x288 with 1 Axes>"
      ]
     },
     "metadata": {
      "needs_background": "light"
     },
     "output_type": "display_data"
    }
   ],
   "source": [
    "#Create scatter plot for latitude and temp\n",
    "plt.scatter(city_data2[\"Lat\"], city_data2[\"Max Temp\"], marker=\"o\", edgecolors=\"black\")\n",
    "\n",
    "#Add graph title, x and y labels, grid and grid\n",
    "plt.title(f'City Latitude vs. Max Temperature {time.strftime(\"%m/%d/%Y\")}')\n",
    "plt.ylabel(\"Temperature (F)\")\n",
    "plt.xlabel(\"Latitude\")\n",
    "plt.grid(True)\n",
    "\n",
    "#Save the graph to file\n",
    "plt.savefig(\"Output_Data/City Latitude vs. Max Temperature.png\")\n",
    "\n",
    "#Show graph to folder\n",
    "plt.show()\n",
    "\n",
    "## Based on the graph of Max Temperature and Latitude it appears that the higher max temps occur just below and above the \n",
    "## equator."
   ]
  },
  {
   "cell_type": "markdown",
   "metadata": {},
   "source": [
    "## Latitude vs. Humidity Plot"
   ]
  },
  {
   "cell_type": "code",
   "execution_count": 60,
   "metadata": {},
   "outputs": [
    {
     "data": {
      "image/png": "[encoded data removed]",
      "text/plain": [
       "<Figure size 432x288 with 1 Axes>"
      ]
     },
     "metadata": {
      "needs_background": "light"
     },
     "output_type": "display_data"
    }
   ],
   "source": [
    "#Create scatter plot for latitude and humidity\n",
    "plt.scatter(city_data2[\"Lat\"], city_data2[\"Humidity\"], marker=\"o\", edgecolors=\"black\")\n",
    "\n",
    "#Add graph title, x and y labels, grid and grid\n",
    "plt.title(f'City Latitude vs. Humidity {time.strftime(\"%m/%d/%Y\")}')\n",
    "plt.ylabel(\"Humidity\")\n",
    "plt.xlabel(\"Latitude\")\n",
    "plt.grid(True)\n",
    "\n",
    "#Save the graph to file\n",
    "plt.savefig(\"Output_Data/City Latitude vs. Humidity.png\")\n",
    "\n",
    "#Show graph to folder\n",
    "plt.show()\n",
    "\n",
    "## Based on the graph of humidity and latitude it appears that the min humidity\n",
    "## is the highest at or just above the equator with the lowest humidity range is around the + or - 20 degrees latitude"
   ]
  },
  {
   "cell_type": "markdown",
   "metadata": {},
   "source": [
    "## Latitude vs. Cloudiness Plot"
   ]
  },
  {
   "cell_type": "code",
   "execution_count": 61,
   "metadata": {},
   "outputs": [
    {
     "data": {
      "image/png": "[encoded data removed]",
      "text/plain": [
       "<Figure size 432x288 with 1 Axes>"
      ]
     },
     "metadata": {
      "needs_background": "light"
     },
     "output_type": "display_data"
    }
   ],
   "source": [
    "#Create scatter plot for latitude and cloudiness\n",
    "plt.scatter(city_data2[\"Lat\"], city_data2[\"Cloudiness\"], marker=\"o\", edgecolors=\"black\")\n",
    "\n",
    "#Add graph title, x and y labels, grid and grid\n",
    "plt.title(f'City Latitude vs. Max Cloudiness {time.strftime(\"%m/%d/%Y\")}')\n",
    "plt.ylabel(\"Cloudiness\")\n",
    "plt.xlabel(\"Latitude\")\n",
    "plt.grid(True)\n",
    "\n",
    "#Save the graph to folder\n",
    "plt.savefig(\"Output_Data/City Latitude vs. Cloudiness.png\")\n",
    "\n",
    "#Show graph\n",
    "plt.show()\n",
    "\n",
    "## Based on the graph of cloudiness and latitude \n",
    "## there doesn't appear to be any relation to humidity based on the city's latitude."
   ]
  },
  {
   "cell_type": "markdown",
   "metadata": {},
   "source": [
    "## Latitude vs. Wind Speed Plot"
   ]
  },
  {
   "cell_type": "code",
   "execution_count": 62,
   "metadata": {},
   "outputs": [
    {
     "data": {
      "image/png": "[encoded data removed]",
      "text/plain": [
       "<Figure size 432x288 with 1 Axes>"
      ]
     },
     "metadata": {
      "needs_background": "light"
     },
     "output_type": "display_data"
    }
   ],
   "source": [
    "#Create scatter plot for latitude and wind speed\n",
    "plt.scatter(city_data2[\"Lat\"], city_data2[\"Windspeed\"], marker=\"o\", edgecolors=\"black\")\n",
    "\n",
    "#Add graph title, x and y labels, grid and grid\n",
    "plt.title(f'City Latitude vs. Wind Speed {time.strftime(\"%m/%d/%Y\")}')\n",
    "plt.ylabel(\"Wind Speed\")\n",
    "plt.xlabel(\"Latitude\")\n",
    "plt.grid(True)\n",
    "\n",
    "#Save the graph to folder\n",
    "plt.savefig(\"Output_Data/City Latitude vs. Wind Speed.png\")\n",
    "\n",
    "# Show plot\n",
    "plt.show()\n",
    "\n",
    "## Based on the graph for wind speed it appears that the wind speed is fairly consistent,\n",
    "## with the exception of a few possible outliers."
   ]
  },
  {
   "cell_type": "markdown",
   "metadata": {},
   "source": [
    "## Linear Regression"
   ]
  },
  {
   "cell_type": "code",
   "execution_count": 70,
   "metadata": {},
   "outputs": [],
   "source": [
    "#Add Linregress dependancy from scipy.stats\n",
    "from scipy.stats import linregress\n",
    "\n",
    "#Create dataframe for norther hemisphere and southern hemisphere\n",
    "n_hem = city_data2.loc[city_data2[\"Lat\"] >= 0.0]\n",
    "n_hem.reset_index(inplace=True)\n",
    "\n",
    "s_hem = city_data2.loc[city_data2[\"Lat\"] < 0.0]\n",
    "s_hem.reset_index(inplace=True)\n"
   ]
  },
  {
   "cell_type": "markdown",
   "metadata": {},
   "source": [
    "####  Northern Hemisphere - Max Temp vs. Latitude Linear Regression"
   ]
  },
  {
   "cell_type": "code",
   "execution_count": 71,
   "metadata": {},
   "outputs": [
    {
     "name": "stdout",
     "output_type": "stream",
     "text": [
      "The r-squared is: 0.6675526175503204\n"
     ]
    },
    {
     "data": {
      "image/png": "[encoded data removed]",
      "text/plain": [
       "<Figure size 432x288 with 1 Axes>"
      ]
     },
     "metadata": {
      "needs_background": "light"
     },
     "output_type": "display_data"
    },
    {
     "data": {
      "text/plain": [
       "<Figure size 432x288 with 0 Axes>"
      ]
     },
     "metadata": {},
     "output_type": "display_data"
    }
   ],
   "source": [
    "# Add the linear regression equation and line and plot Northern Hemisphere Max Temps\n",
    "x_values = n_hem[\"Lat\"]\n",
    "y_values = n_hem[\"Max Temp\"]\n",
    "(slope, intercept, rvalue, pvalue, stderr) = linregress(x_values, y_values)\n",
    "regress_values = x_values * slope + intercept\n",
    "line_eq = \"y = \" + str(round(slope,2)) + \"x + \" + str(round(intercept,2))\n",
    "plt.scatter(x_values,y_values)\n",
    "plt.plot(x_values,regress_values,\"r-\")\n",
    "plt.annotate(line_eq,(0,30),fontsize=15,color=\"red\")\n",
    "plt.xlabel(\"Latitude\")\n",
    "plt.ylabel(\"Temperature (F)\")\n",
    "print(f\"The r-squared is: {rvalue**2}\")\n",
    "plt.show()\n",
    "# Save the figure\n",
    "plt.savefig(\"Output_Data/Northern Hemisphere vs. Max Temp.png\")"
   ]
  },
  {
   "cell_type": "markdown",
   "metadata": {},
   "source": [
    "####  Southern Hemisphere - Max Temp vs. Latitude Linear Regression"
   ]
  },
  {
   "cell_type": "code",
   "execution_count": 72,
   "metadata": {},
   "outputs": [
    {
     "name": "stdout",
     "output_type": "stream",
     "text": [
      "The r-squared is: 0.4552721663908447\n"
     ]
    },
    {
     "data": {
      "image/png": "[encoded data removed]",
      "text/plain": [
       "<Figure size 432x288 with 1 Axes>"
      ]
     },
     "metadata": {
      "needs_background": "light"
     },
     "output_type": "display_data"
    },
    {
     "data": {
      "text/plain": [
       "<Figure size 432x288 with 0 Axes>"
      ]
     },
     "metadata": {},
     "output_type": "display_data"
    }
   ],
   "source": [
    "# Add the linear regression equation and line to plot Southern Hemisphere Max Temps\n",
    "x_values = s_hem[\"Lat\"]\n",
    "y_values = s_hem[\"Max Temp\"]\n",
    "(slope, intercept, rvalue, pvalue, stderr) = linregress(x_values, y_values)\n",
    "regress_values = x_values * slope + intercept\n",
    "line_eq = \"y = \" + str(round(slope,2)) + \"x + \" + str(round(intercept,2))\n",
    "plt.scatter(x_values,y_values)\n",
    "plt.plot(x_values,regress_values,\"r-\")\n",
    "plt.annotate(line_eq,(-50,90),fontsize=15,color=\"red\")\n",
    "plt.xlabel(\"Latitude\")\n",
    "plt.ylabel(\"Temperature (F)\")\n",
    "print(f\"The r-squared is: {rvalue**2}\")\n",
    "plt.show()\n",
    "# Save the figure\n",
    "plt.savefig(\"Output_Data/Southern Hemisphere vs. Max Temp.png\")"
   ]
  },
  {
   "cell_type": "markdown",
   "metadata": {},
   "source": [
    "####  Northern Hemisphere - Humidity (%) vs. Latitude Linear Regression"
   ]
  },
  {
   "cell_type": "code",
   "execution_count": 73,
   "metadata": {},
   "outputs": [
    {
     "name": "stdout",
     "output_type": "stream",
     "text": [
      "The r-squared is: 0.006662976382291605\n"
     ]
    },
    {
     "data": {
      "image/png": "[encoded data removed]",
      "text/plain": [
       "<Figure size 432x288 with 1 Axes>"
      ]
     },
     "metadata": {
      "needs_background": "light"
     },
     "output_type": "display_data"
    },
    {
     "data": {
      "text/plain": [
       "<Figure size 432x288 with 0 Axes>"
      ]
     },
     "metadata": {},
     "output_type": "display_data"
    }
   ],
   "source": [
    "# Add the linear regression equation and line and plot Northern Hemisphere Humidity\n",
    "x_values = n_hem[\"Lat\"]\n",
    "y_values = n_hem[\"Humidity\"]\n",
    "(slope, intercept, rvalue, pvalue, stderr) = linregress(x_values, y_values)\n",
    "regress_values = x_values * slope + intercept\n",
    "line_eq = \"y = \" + str(round(slope,2)) + \"x + \" + str(round(intercept,2))\n",
    "plt.scatter(x_values,y_values)\n",
    "plt.plot(x_values,regress_values,\"r-\")\n",
    "plt.annotate(line_eq,(0,30),fontsize=15,color=\"red\")\n",
    "plt.xlabel(\"Latitude\")\n",
    "plt.ylabel(\"Humidity\")\n",
    "print(f\"The r-squared is: {rvalue**2}\")\n",
    "plt.show()\n",
    "# Save the figure\n",
    "plt.savefig(\"Output_Data/Northern Hemisphere vs. Humidity.png\")"
   ]
  },
  {
   "cell_type": "markdown",
   "metadata": {},
   "source": [
    "####  Southern Hemisphere - Humidity (%) vs. Latitude Linear Regression"
   ]
  },
  {
   "cell_type": "code",
   "execution_count": 74,
   "metadata": {},
   "outputs": [
    {
     "name": "stdout",
     "output_type": "stream",
     "text": [
      "The r-squared is: 0.04717110052899401\n"
     ]
    },
    {
     "data": {
      "image/png": "[encoded data removed]",
      "text/plain": [
       "<Figure size 432x288 with 1 Axes>"
      ]
     },
     "metadata": {
      "needs_background": "light"
     },
     "output_type": "display_data"
    },
    {
     "data": {
      "text/plain": [
       "<Figure size 432x288 with 0 Axes>"
      ]
     },
     "metadata": {},
     "output_type": "display_data"
    }
   ],
   "source": [
    "# Add the linear regression equation and line and plot Southern Hemisphere Humidity\n",
    "x_values = s_hem[\"Lat\"]\n",
    "y_values = s_hem[\"Humidity\"]\n",
    "(slope, intercept, rvalue, pvalue, stderr) = linregress(x_values, y_values)\n",
    "regress_values = x_values * slope + intercept\n",
    "line_eq = \"y = \" + str(round(slope,2)) + \"x + \" + str(round(intercept,2))\n",
    "plt.scatter(x_values,y_values)\n",
    "plt.plot(x_values,regress_values,\"r-\")\n",
    "plt.annotate(line_eq,(0,30),fontsize=15,color=\"red\")\n",
    "plt.xlabel(\"Latitude\")\n",
    "plt.ylabel(\"Humidity\")\n",
    "print(f\"The r-squared is: {rvalue**2}\")\n",
    "plt.show()\n",
    "# Save the figure\n",
    "plt.savefig(\"Output_Data/Southern Hemisphere vs. Humidity.png\")"
   ]
  },
  {
   "cell_type": "markdown",
   "metadata": {},
   "source": [
    "####  Northern Hemisphere - Cloudiness (%) vs. Latitude Linear Regression"
   ]
  },
  {
   "cell_type": "code",
   "execution_count": 75,
   "metadata": {},
   "outputs": [
    {
     "name": "stdout",
     "output_type": "stream",
     "text": [
      "The r-squared is: 0.0015727725922244967\n"
     ]
    },
    {
     "data": {
      "image/png": "[encoded data removed]",
      "text/plain": [
       "<Figure size 432x288 with 1 Axes>"
      ]
     },
     "metadata": {
      "needs_background": "light"
     },
     "output_type": "display_data"
    },
    {
     "data": {
      "text/plain": [
       "<Figure size 432x288 with 0 Axes>"
      ]
     },
     "metadata": {},
     "output_type": "display_data"
    }
   ],
   "source": [
    "# Add the linear regression equation and line and plot Northern Hemisphere Cloudiness\n",
    "x_values = n_hem[\"Lat\"]\n",
    "y_values = n_hem[\"Cloudiness\"]\n",
    "(slope, intercept, rvalue, pvalue, stderr) = linregress(x_values, y_values)\n",
    "regress_values = x_values * slope + intercept\n",
    "line_eq = \"y = \" + str(round(slope,2)) + \"x + \" + str(round(intercept,2))\n",
    "plt.scatter(x_values,y_values)\n",
    "plt.plot(x_values,regress_values,\"r-\")\n",
    "plt.annotate(line_eq,(0,30),fontsize=15,color=\"red\")\n",
    "plt.xlabel(\"Latitude\")\n",
    "plt.ylabel(\"Cloudiness\")\n",
    "print(f\"The r-squared is: {rvalue**2}\")\n",
    "plt.show()\n",
    "# Save the figure\n",
    "plt.savefig(\"Output_Data/Northern Hemisphere vs. Cloudiness.png\")"
   ]
  },
  {
   "cell_type": "markdown",
   "metadata": {},
   "source": [
    "####  Southern Hemisphere - Cloudiness (%) vs. Latitude Linear Regression"
   ]
  },
  {
   "cell_type": "code",
   "execution_count": 30,
   "metadata": {},
   "outputs": [
    {
     "name": "stdout",
     "output_type": "stream",
     "text": [
      "The r-value is: 0.0035263772085582894\n"
     ]
    },
    {
     "data": {
      "image/png": "[encoded data removed]",
      "text/plain": [
       "<Figure size 432x288 with 1 Axes>"
      ]
     },
     "metadata": {
      "needs_background": "light"
     },
     "output_type": "display_data"
    }
   ],
   "source": [
    "# Add the linear regression equation and line and plot Southern Hemisphere Cloudiness\n",
    "x_values = s_hem[\"Lat\"]\n",
    "y_values = s_hem[\"Cloudiness\"]\n",
    "(slope, intercept, rvalue, pvalue, stderr) = linregress(x_values, y_values)\n",
    "regress_values = x_values * slope + intercept\n",
    "line_eq = \"y = \" + str(round(slope,2)) + \"x + \" + str(round(intercept,2))\n",
    "plt.scatter(x_values,y_values)\n",
    "plt.plot(x_values,regress_values,\"r-\")\n",
    "plt.annotate(line_eq,(0,30),fontsize=15,color=\"red\")\n",
    "plt.xlabel(\"Latitude\")\n",
    "plt.ylabel(\"Cloudiness\")\n",
    "print(f\"The r-squared is: {rvalue**2}\")\n",
    "plt.show()\n",
    "# Save the figure\n",
    "plt.savefig(\"Output_Data/Southern Hemisphere vs. Cloudiness.png\")"
   ]
  },
  {
   "cell_type": "markdown",
   "metadata": {},
   "source": [
    "####  Northern Hemisphere - Wind Speed (mph) vs. Latitude Linear Regression"
   ]
  },
  {
   "cell_type": "code",
   "execution_count": 31,
   "metadata": {},
   "outputs": [
    {
     "name": "stdout",
     "output_type": "stream",
     "text": [
      "The r-value is: 0.04019723576144484\n"
     ]
    },
    {
     "data": {
      "image/png": "[encoded data removed]",
      "text/plain": [
       "<Figure size 432x288 with 1 Axes>"
      ]
     },
     "metadata": {
      "needs_background": "light"
     },
     "output_type": "display_data"
    }
   ],
   "source": [
    "# Add the linear regression equation and line and plot Northern Hemisphere Wind Speed\n",
    "x_values = n_hem[\"Lat\"]\n",
    "y_values = n_hem[\"Windspeed\"]\n",
    "(slope, intercept, rvalue, pvalue, stderr) = linregress(x_values, y_values)\n",
    "regress_values = x_values * slope + intercept\n",
    "line_eq = \"y = \" + str(round(slope,2)) + \"x + \" + str(round(intercept,2))\n",
    "plt.scatter(x_values,y_values)\n",
    "plt.plot(x_values,regress_values,\"r-\")\n",
    "plt.annotate(line_eq,(0,30),fontsize=15,color=\"red\")\n",
    "plt.xlabel(\"Latitude\")\n",
    "plt.ylabel(\"Wind Speed\")\n",
    "print(f\"The r-squared is: {rvalue**2}\")\n",
    "plt.show()\n",
    "# Save the figure\n",
    "plt.savefig(\"Output_Data/Northern Hemisphere vs. Wind Speed.png\")"
   ]
  },
  {
   "cell_type": "markdown",
   "metadata": {},
   "source": [
    "####  Southern Hemisphere - Wind Speed (mph) vs. Latitude Linear Regression"
   ]
  },
  {
   "cell_type": "code",
   "execution_count": 32,
   "metadata": {},
   "outputs": [
    {
     "name": "stdout",
     "output_type": "stream",
     "text": [
      "The r-value is: 0.017128274759839232\n"
     ]
    },
    {
     "data": {
      "image/png": "[encoded data removed]",
      "text/plain": [
       "<Figure size 432x288 with 1 Axes>"
      ]
     },
     "metadata": {
      "needs_background": "light"
     },
     "output_type": "display_data"
    }
   ],
   "source": [
    "# Add the linear regression equation and line and plot Southern Hemisphere Wind Speed\n",
    "x_values = s_hem[\"Lat\"]\n",
    "y_values = s_hem[\"Windspeed\"]\n",
    "(slope, intercept, rvalue, pvalue, stderr) = linregress(x_values, y_values)\n",
    "regress_values = x_values * slope + intercept\n",
    "line_eq = \"y = \" + str(round(slope,2)) + \"x + \" + str(round(intercept,2))\n",
    "plt.scatter(x_values,y_values)\n",
    "plt.plot(x_values,regress_values,\"r-\")\n",
    "plt.annotate(line_eq,(0,30),fontsize=15,color=\"red\")\n",
    "plt.xlabel(\"Latitude\")\n",
    "plt.ylabel(\"Wind Speed\")\n",
    "print(f\"The r-squared is: {rvalue**2}\")\n",
    "plt.show()\n",
    "# Save the figure\n",
    "plt.savefig(\"Output_Data/Southern Hemisphere vs. Wind Speed.png\")"
   ]
  },
  {
   "cell_type": "code",
   "execution_count": null,
   "metadata": {},
   "outputs": [],
   "source": []
  }
 ],
 "metadata": {
  "anaconda-cloud": {},
  "kernel_info": {
   "name": "python3"
  },
  "kernelspec": {
   "display_name": "Python 3.6.10 64-bit ('bcs': conda)",
   "language": "python",
   "name": "python361064bitbcsconda9956bb7450484f49881ea0c9e482447b"
  },
  "language_info": {
   "codemirror_mode": {
    "name": "ipython",
    "version": 3
   },
   "file_extension": ".py",
   "mimetype": "text/x-python",
   "name": "python",
   "nbconvert_exporter": "python",
   "pygments_lexer": "ipython3",
   "version": "3.6.10"
  },
  "latex_envs": {
   "LaTeX_envs_menu_present": true,
   "autoclose": false,
   "autocomplete": true,
   "bibliofile": "biblio.bib",
   "cite_by": "apalike",
   "current_citInitial": 1,
   "eqLabelWithNumbers": true,
   "eqNumInitial": 1,
   "hotkeys": {
    "equation": "Ctrl-E",
    "itemize": "Ctrl-I"
   },
   "labels_anchors": false,
   "latex_user_defs": false,
   "report_style_numbering": false,
   "user_envs_cfg": false
  },
  "nteract": {
   "version": "0.12.3"
  }
 },
 "nbformat": 4,
 "nbformat_minor": 2
}
